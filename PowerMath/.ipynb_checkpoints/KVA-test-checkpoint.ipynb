{
 "cells": [
  {
   "cell_type": "markdown",
   "metadata": {},
   "source": [
    "## KVM Calculator\n",
    "this is a python module that will calculate KVM from Volts and Amps and the reverse.\n",
    "bellow are examples of both Single and three phase examples of how this calculator is used in Jupyter Notebooks.\n",
    "\n",
    "I used the documentation provided from William F. Whites's website"
   ]
  },
  {
   "cell_type": "code",
   "execution_count": 2,
   "metadata": {},
   "outputs": [],
   "source": [
    "import KVA\n"
   ]
  },
  {
   "cell_type": "code",
   "execution_count": 3,
   "metadata": {},
   "outputs": [
    {
     "name": "stdout",
     "output_type": "stream",
     "text": [
      "24.0 kva\n",
      "71.968 kva\n"
     ]
    }
   ],
   "source": [
    "kva1 = KVA.kva1(120, 200)\n",
    "print(kva1, 'kva')\n",
    "\n",
    "kva3 = KVA.kva3(208, 200)\n",
    "print(kva3, 'kva')\n"
   ]
  },
  {
   "cell_type": "code",
   "execution_count": 4,
   "metadata": {},
   "outputs": [
    {
     "name": "stdout",
     "output_type": "stream",
     "text": [
      "120.0 volts\n",
      "208.0 volts\n"
     ]
    }
   ],
   "source": [
    "kva1 = KVA.volts1(24, 200)\n",
    "print(kva1, 'volts')\n",
    "\n",
    "kva3 = KVA.volts3(71.968, 200)\n",
    "print(kva3, 'volts')\n"
   ]
  },
  {
   "cell_type": "code",
   "execution_count": 5,
   "metadata": {},
   "outputs": [
    {
     "name": "stdout",
     "output_type": "stream",
     "text": [
      "200.0 amps\n",
      "200.0 amps\n"
     ]
    }
   ],
   "source": [
    "kva1 = KVA.amps1(24, 120)\n",
    "print(kva1, 'amps')\n",
    "\n",
    "kva3 = KVA.amps3(71.968, 208)\n",
    "print(kva3, 'amps')\n"
   ]
  }
 ],
 "metadata": {
  "kernelspec": {
   "display_name": "Python 3",
   "language": "python",
   "name": "python3"
  },
  "language_info": {
   "codemirror_mode": {
    "name": "ipython",
    "version": 3
   },
   "file_extension": ".py",
   "mimetype": "text/x-python",
   "name": "python",
   "nbconvert_exporter": "python",
   "pygments_lexer": "ipython3",
   "version": "3.7.3"
  }
 },
 "nbformat": 4,
 "nbformat_minor": 2
}
