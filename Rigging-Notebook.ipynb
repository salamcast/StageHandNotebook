{
 "cells": [
  {
   "cell_type": "markdown",
   "metadata": {},
   "source": [
    "# Rigging Calculations Notebook\n",
    "- the calculations that are dememonstrated in this notebook will be taken from the IATSE 58 Rigging 101 course\n",
    "- this is intened to be a tool in the tool in the tool kit of my fellow union members. \n",
    "- I'm sharing my knowledge, i would like to encourage you to share yours to help this tool serve all the members in our local and our sister locals. \n",
    "- Not everyone can do the calculations in their head, so lets use our phones do the work;\n",
    "- not all apps me our needs, this is intended to be cross-platform - droid phone, docker, anaconda ... anything the runs python 3."
   ]
  },
  {
   "cell_type": "code",
   "execution_count": 1,
   "metadata": {},
   "outputs": [],
   "source": [
    "import RiggingMath as RM\n",
    "V1 = 12\n",
    "H1 = 8\n",
    "\n",
    "V2 = 16\n",
    "H2 = 24\n",
    "\n",
    "W = 2000"
   ]
  },
  {
   "cell_type": "code",
   "execution_count": 2,
   "metadata": {},
   "outputs": [
    {
     "name": "stdout",
     "output_type": "stream",
     "text": [
      "Leg lenth L1 is: 14.422205101855956 \n",
      "\n",
      "Leg lenth L2 is: 28.844410203711913 \n",
      "\n"
     ]
    }
   ],
   "source": [
    "L1 = RM.leg_length(V1, H1)\n",
    "L2 = RM.leg_length(V2, H2)\n",
    "\n",
    "print('Leg lenth L1 is:', L1, \"\\n\")\n",
    "print('Leg lenth L2 is:', L2, \"\\n\")"
   ]
  },
  {
   "cell_type": "code",
   "execution_count": 3,
   "metadata": {},
   "outputs": [
    {
     "name": "stdout",
     "output_type": "stream",
     "text": [
      "Leg tension T1 is:  1664.100588675687 \n",
      "\n",
      "Leg tension T2 is:  1109.4003924504582 \n",
      "\n"
     ]
    }
   ],
   "source": [
    "T1 = RM.Tension_2leg_up_left(W, H1, H2, V1, V2, L1)\n",
    "T2 = RM.Tension_2leg_up_right(W, H1, H2, V1, V2, L2)\n",
    "\n",
    "print('Leg tension T1 is: ', T1, \"\\n\")\n",
    "print('Leg tension T2 is: ', T2, \"\\n\")"
   ]
  },
  {
   "cell_type": "code",
   "execution_count": null,
   "metadata": {},
   "outputs": [],
   "source": []
  }
 ],
 "metadata": {
  "kernelspec": {
   "display_name": "Python 3",
   "language": "python",
   "name": "python3"
  },
  "language_info": {
   "codemirror_mode": {
    "name": "ipython",
    "version": 3
   },
   "file_extension": ".py",
   "mimetype": "text/x-python",
   "name": "python",
   "nbconvert_exporter": "python",
   "pygments_lexer": "ipython3",
   "version": "3.7.3"
  }
 },
 "nbformat": 4,
 "nbformat_minor": 2
}
